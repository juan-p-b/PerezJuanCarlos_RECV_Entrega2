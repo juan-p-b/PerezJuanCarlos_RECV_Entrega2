{
 "cells": [
  {
   "cell_type": "markdown",
   "metadata": {},
   "source": [
    "# Entrega 2"
   ]
  },
  {
   "cell_type": "code",
   "execution_count": 63,
   "metadata": {},
   "outputs": [],
   "source": [
    "#--Librerias\n",
    "import pandas as pd\n",
    "import matplotlib.pyplot as plt\n",
    "import numpy as np"
   ]
  },
  {
   "cell_type": "code",
   "execution_count": 64,
   "metadata": {},
   "outputs": [
    {
     "data": {
      "text/plain": [
       "Unnamed: 0             0\n",
       "Manufacturer           0\n",
       "Model                  0\n",
       "Type                   0\n",
       "Min.Price              0\n",
       "Price                  0\n",
       "Max.Price              0\n",
       "MPG.city               0\n",
       "MPG.highway            0\n",
       "AirBags                0\n",
       "DriveTrain             0\n",
       "Cylinders              0\n",
       "EngineSize             0\n",
       "Horsepower             0\n",
       "RPM                    0\n",
       "Rev.per.mile           0\n",
       "Man.trans.avail        0\n",
       "Fuel.tank.capacity     0\n",
       "Passengers             0\n",
       "Length                 0\n",
       "Wheelbase              0\n",
       "Width                  0\n",
       "Turn.circle            0\n",
       "Rear.seat.room         2\n",
       "Luggage.room          11\n",
       "Weight                 0\n",
       "Origin                 0\n",
       "Make                   0\n",
       "dtype: int64"
      ]
     },
     "execution_count": 64,
     "metadata": {},
     "output_type": "execute_result"
    }
   ],
   "source": [
    "#Datos\n",
    "data = pd.read_csv('Cars93.csv')\n",
    "data.keys()\n",
    "data.isnull().sum()"
   ]
  },
  {
   "cell_type": "code",
   "execution_count": 65,
   "metadata": {},
   "outputs": [],
   "source": [
    "# Llenar los datos Nan con la media \n",
    "data['Luggage.room']=data['Luggage.room'].fillna(data['Luggage.room'].mean())\n",
    "data['Rear.seat.room']=data['Rear.seat.room'].fillna(data['Rear.seat.room'].mean())"
   ]
  },
  {
   "cell_type": "code",
   "execution_count": 66,
   "metadata": {},
   "outputs": [
    {
     "data": {
      "text/plain": [
       "Unnamed: 0            0\n",
       "Manufacturer          0\n",
       "Model                 0\n",
       "Type                  0\n",
       "Min.Price             0\n",
       "Price                 0\n",
       "Max.Price             0\n",
       "MPG.city              0\n",
       "MPG.highway           0\n",
       "AirBags               0\n",
       "DriveTrain            0\n",
       "Cylinders             0\n",
       "EngineSize            0\n",
       "Horsepower            0\n",
       "RPM                   0\n",
       "Rev.per.mile          0\n",
       "Man.trans.avail       0\n",
       "Fuel.tank.capacity    0\n",
       "Passengers            0\n",
       "Length                0\n",
       "Wheelbase             0\n",
       "Width                 0\n",
       "Turn.circle           0\n",
       "Rear.seat.room        0\n",
       "Luggage.room          0\n",
       "Weight                0\n",
       "Origin                0\n",
       "Make                  0\n",
       "dtype: int64"
      ]
     },
     "execution_count": 66,
     "metadata": {},
     "output_type": "execute_result"
    }
   ],
   "source": [
    "data.isnull().sum()"
   ]
  },
  {
   "cell_type": "code",
   "execution_count": 27,
   "metadata": {},
   "outputs": [],
   "source": [
    "#Varible de \n",
    "y='Price'"
   ]
  },
  {
   "cell_type": "code",
   "execution_count": 71,
   "metadata": {},
   "outputs": [
    {
     "data": {
      "image/png": "[encoded data removed]",
      "text/plain": [
       "<Figure size 504x360 with 1 Axes>"
      ]
     },
     "metadata": {
      "needs_background": "light"
     },
     "output_type": "display_data"
    }
   ],
   "source": [
    "#Histrograma de precios \n",
    "fig= plt.figure(figsize=(7,5))\n",
    "plt.hist(data['Price'],bins=30)\n",
    "plt.ylabel('Cantidad')\n",
    "plt.xlabel('Precio')\n",
    "plt.show()"
   ]
  },
  {
   "cell_type": "code",
   "execution_count": null,
   "metadata": {},
   "outputs": [],
   "source": []
  }
 ],
 "metadata": {
  "kernelspec": {
   "display_name": "Python 3",
   "language": "python",
   "name": "python3"
  },
  "language_info": {
   "codemirror_mode": {
    "name": "ipython",
    "version": 3
   },
   "file_extension": ".py",
   "mimetype": "text/x-python",
   "name": "python",
   "nbconvert_exporter": "python",
   "pygments_lexer": "ipython3",
   "version": "3.7.3"
  }
 },
 "nbformat": 4,
 "nbformat_minor": 4
}
